{
 "cells": [
  {
   "cell_type": "code",
   "execution_count": null,
   "metadata": {},
   "outputs": [],
   "source": [
    "list datatype:"
   ]
  },
  {
   "cell_type": "code",
   "execution_count": 1,
   "metadata": {},
   "outputs": [
    {
     "name": "stdout",
     "output_type": "stream",
     "text": [
      "['Nida', 'Kartik', 'Dhanashree', 'Suhair', 'Sumair']\n"
     ]
    }
   ],
   "source": [
    "students = ['Nida','Kartik','Dhanashree','Suhair','Sumair']\n",
    "print(students)"
   ]
  },
  {
   "cell_type": "code",
   "execution_count": 2,
   "metadata": {},
   "outputs": [
    {
     "data": {
      "text/plain": [
       "list"
      ]
     },
     "execution_count": 2,
     "metadata": {},
     "output_type": "execute_result"
    }
   ],
   "source": [
    "type(students)"
   ]
  },
  {
   "cell_type": "code",
   "execution_count": null,
   "metadata": {},
   "outputs": [],
   "source": [
    "#to appreciate the list of above students:"
   ]
  },
  {
   "cell_type": "code",
   "execution_count": 3,
   "metadata": {},
   "outputs": [
    {
     "name": "stdout",
     "output_type": "stream",
     "text": [
      "Keep up the good work, Nida\n"
     ]
    }
   ],
   "source": [
    "print(f\"Keep up the good work, {students[0]}\")"
   ]
  },
  {
   "cell_type": "code",
   "execution_count": 4,
   "metadata": {},
   "outputs": [
    {
     "name": "stdout",
     "output_type": "stream",
     "text": [
      "Keep up the good work, Kartik\n"
     ]
    }
   ],
   "source": [
    "print(f\"Keep up the good work, {students[1]}\")"
   ]
  },
  {
   "cell_type": "code",
   "execution_count": 5,
   "metadata": {},
   "outputs": [
    {
     "name": "stdout",
     "output_type": "stream",
     "text": [
      "Keep up the good work, Suhair\n"
     ]
    }
   ],
   "source": [
    "print(f\"Keep up the good work, {students[3]}\")"
   ]
  },
  {
   "cell_type": "code",
   "execution_count": null,
   "metadata": {},
   "outputs": [],
   "source": [
    "introduction to for loop:"
   ]
  },
  {
   "cell_type": "code",
   "execution_count": null,
   "metadata": {},
   "outputs": [],
   "source": [
    "#General syntax for for loop:\n",
    "\n",
    "# tempvar will be creating in the loop itself.\n",
    "\n",
    "for tempvar in mainvar:\n",
    "    print(tempvar)         #indentation"
   ]
  },
  {
   "cell_type": "code",
   "execution_count": null,
   "metadata": {},
   "outputs": [],
   "source": [
    "#implementation of for loop"
   ]
  },
  {
   "cell_type": "code",
   "execution_count": 6,
   "metadata": {},
   "outputs": [
    {
     "name": "stdout",
     "output_type": "stream",
     "text": [
      "Nida\n",
      "Kartik\n",
      "Dhanashree\n",
      "Suhair\n",
      "Sumair\n"
     ]
    }
   ],
   "source": [
    "for x in students:\n",
    "    print(x)"
   ]
  },
  {
   "cell_type": "code",
   "execution_count": null,
   "metadata": {},
   "outputs": [],
   "source": [
    "#enhancement of the for loop:"
   ]
  },
  {
   "cell_type": "code",
   "execution_count": 7,
   "metadata": {},
   "outputs": [
    {
     "name": "stdout",
     "output_type": "stream",
     "text": [
      "keep up the good work, Nida\n",
      "keep up the good work, Kartik\n",
      "keep up the good work, Dhanashree\n",
      "keep up the good work, Suhair\n",
      "keep up the good work, Sumair\n"
     ]
    }
   ],
   "source": [
    "for x in students:\n",
    "    print(f\"keep up the good work, {x}\")"
   ]
  },
  {
   "cell_type": "code",
   "execution_count": 8,
   "metadata": {},
   "outputs": [
    {
     "name": "stdout",
     "output_type": "stream",
     "text": [
      "keep up the good work, Nida\n",
      "keep up the good work, Kartik\n",
      "keep up the good work, Dhanashree\n",
      "keep up the good work, Suhair\n",
      "keep up the good work, Sumair\n",
      "i will be looking forward to receive your file of today, Sumair\n"
     ]
    }
   ],
   "source": [
    "for x in students:\n",
    "    print(f\"keep up the good work, {x}\")\n",
    "    \n",
    "print(f\"i will be looking forward to receive your file of today, {x}\")"
   ]
  },
  {
   "cell_type": "code",
   "execution_count": 9,
   "metadata": {},
   "outputs": [
    {
     "name": "stdout",
     "output_type": "stream",
     "text": [
      "keep up the good work, Nida\n",
      "i will be looking forward to receive your file of today, Nida\n",
      "keep up the good work, Kartik\n",
      "i will be looking forward to receive your file of today, Kartik\n",
      "keep up the good work, Dhanashree\n",
      "i will be looking forward to receive your file of today, Dhanashree\n",
      "keep up the good work, Suhair\n",
      "i will be looking forward to receive your file of today, Suhair\n",
      "keep up the good work, Sumair\n",
      "i will be looking forward to receive your file of today, Sumair\n"
     ]
    }
   ],
   "source": [
    "for x in students:\n",
    "    print(f\"keep up the good work, {x}\")   \n",
    "    print(f\"i will be looking forward to receive your file of today, {x}\")"
   ]
  },
  {
   "cell_type": "code",
   "execution_count": 10,
   "metadata": {},
   "outputs": [
    {
     "name": "stdout",
     "output_type": "stream",
     "text": [
      "keep up the good work, Nida\n",
      "i will be looking forward to receive your file of today, Nida.\n",
      "\n",
      "keep up the good work, Kartik\n",
      "i will be looking forward to receive your file of today, Kartik.\n",
      "\n",
      "keep up the good work, Dhanashree\n",
      "i will be looking forward to receive your file of today, Dhanashree.\n",
      "\n",
      "keep up the good work, Suhair\n",
      "i will be looking forward to receive your file of today, Suhair.\n",
      "\n",
      "keep up the good work, Sumair\n",
      "i will be looking forward to receive your file of today, Sumair.\n",
      "\n"
     ]
    }
   ],
   "source": [
    "for x in students:\n",
    "    print(f\"keep up the good work, {x}\")   \n",
    "    print(f\"i will be looking forward to receive your file of today, {x}.\\n\")"
   ]
  },
  {
   "cell_type": "code",
   "execution_count": 11,
   "metadata": {},
   "outputs": [
    {
     "name": "stdout",
     "output_type": "stream",
     "text": [
      "keep up the good work, Nida\n",
      "i will be looking forward to receive your file of today, Nida\n",
      "keep up the good work, Kartik\n",
      "i will be looking forward to receive your file of today, Kartik\n",
      "keep up the good work, Dhanashree\n",
      "i will be looking forward to receive your file of today, Dhanashree\n",
      "keep up the good work, Suhair\n",
      "i will be looking forward to receive your file of today, Suhair\n",
      "keep up the good work, Sumair\n",
      "i will be looking forward to receive your file of today, Sumair\n",
      "Thank you all for showing the interest in learning python\n"
     ]
    }
   ],
   "source": [
    "for x in students:\n",
    "    print(f\"keep up the good work, {x}\")   \n",
    "    print(f\"i will be looking forward to receive your file of today, {x}\")\n",
    "    \n",
    "print('Thank you all for showing the interest in learning python')"
   ]
  },
  {
   "cell_type": "code",
   "execution_count": 12,
   "metadata": {},
   "outputs": [
    {
     "name": "stdout",
     "output_type": "stream",
     "text": [
      "keep up the good work, Nida\n",
      "i will be looking forward to receive your file of today, Nida.\n",
      "\n",
      "keep up the good work, Kartik\n",
      "i will be looking forward to receive your file of today, Kartik.\n",
      "\n",
      "keep up the good work, Dhanashree\n",
      "i will be looking forward to receive your file of today, Dhanashree.\n",
      "\n",
      "keep up the good work, Suhair\n",
      "i will be looking forward to receive your file of today, Suhair.\n",
      "\n",
      "keep up the good work, Sumair\n",
      "i will be looking forward to receive your file of today, Sumair.\n",
      "\n",
      "Thank you all for showing the interest in learning python\n"
     ]
    }
   ],
   "source": [
    "for x in students:\n",
    "    print(f\"keep up the good work, {x}\")   \n",
    "    print(f\"i will be looking forward to receive your file of today, {x}.\\n\")\n",
    "    \n",
    "print('Thank you all for showing the interest in learning python')"
   ]
  }
 ],
 "metadata": {
  "kernelspec": {
   "display_name": "Python 3",
   "language": "python",
   "name": "python3"
  },
  "language_info": {
   "codemirror_mode": {
    "name": "ipython",
    "version": 3
   },
   "file_extension": ".py",
   "mimetype": "text/x-python",
   "name": "python",
   "nbconvert_exporter": "python",
   "pygments_lexer": "ipython3",
   "version": "3.7.6"
  }
 },
 "nbformat": 4,
 "nbformat_minor": 4
}
